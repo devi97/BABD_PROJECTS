{
 "cells": [
  {
   "cell_type": "code",
   "execution_count": 1,
   "metadata": {},
   "outputs": [
    {
     "name": "stdout",
     "output_type": "stream",
     "text": [
      "+------+--------------+---------------------------+------------+-----------------------+----------+-------------+-------------+\n",
      "|gender|race/ethnicity|parental level of education|       lunch|test preparation course|math score|reading score|writing score|\n",
      "+------+--------------+---------------------------+------------+-----------------------+----------+-------------+-------------+\n",
      "|female|       group B|          bachelor's degree|    standard|                   none|        72|           72|           74|\n",
      "|female|       group C|               some college|    standard|              completed|        69|           90|           88|\n",
      "|female|       group B|            master's degree|    standard|                   none|        90|           95|           93|\n",
      "|  male|       group A|         associate's degree|free/reduced|                   none|        47|           57|           44|\n",
      "|  male|       group C|               some college|    standard|                   none|        76|           78|           75|\n",
      "|female|       group B|         associate's degree|    standard|                   none|        71|           83|           78|\n",
      "|female|       group B|               some college|    standard|              completed|        88|           95|           92|\n",
      "|  male|       group B|               some college|free/reduced|                   none|        40|           43|           39|\n",
      "|  male|       group D|                high school|free/reduced|              completed|        64|           64|           67|\n",
      "|female|       group B|                high school|free/reduced|                   none|        38|           60|           50|\n",
      "+------+--------------+---------------------------+------------+-----------------------+----------+-------------+-------------+\n",
      "only showing top 10 rows\n",
      "\n"
     ]
    }
   ],
   "source": [
    "#READING THE DATA SET \n",
    "df = spark.read.format(\"csv\").option(\"header\", \"true\").load(\"StudentsPerformance.csv\")\n",
    "df.show(10)"
   ]
  },
  {
   "cell_type": "code",
   "execution_count": 3,
   "metadata": {},
   "outputs": [
    {
     "name": "stdout",
     "output_type": "stream",
     "text": [
      "root\n",
      " |-- gender: string (nullable = true)\n",
      " |-- race/ethnicity: string (nullable = true)\n",
      " |-- parental level of education: string (nullable = true)\n",
      " |-- lunch: string (nullable = true)\n",
      " |-- test preparation course: string (nullable = true)\n",
      " |-- math score: string (nullable = true)\n",
      " |-- reading score: string (nullable = true)\n",
      " |-- writing score: string (nullable = true)\n",
      "\n"
     ]
    }
   ],
   "source": [
    "#1.Print the schema\n",
    "df.printSchema()"
   ]
  },
  {
   "cell_type": "code",
   "execution_count": 6,
   "metadata": {},
   "outputs": [
    {
     "name": "stdout",
     "output_type": "stream",
     "text": [
      "+---------------------------+\n",
      "|parental level of education|\n",
      "+---------------------------+\n",
      "|           some high school|\n",
      "|         associate's degree|\n",
      "|                high school|\n",
      "|          bachelor's degree|\n",
      "|            master's degree|\n",
      "|               some college|\n",
      "+---------------------------+\n",
      "\n"
     ]
    }
   ],
   "source": [
    "#2.Show distinct parental backgrounds of students\n",
    "\n",
    "df.select(\"parental level of education\").distinct().show()"
   ]
  },
  {
   "cell_type": "code",
   "execution_count": 8,
   "metadata": {},
   "outputs": [
    {
     "name": "stdout",
     "output_type": "stream",
     "text": [
      "+---------------------------+-----+\n",
      "|parental level of education|count|\n",
      "+---------------------------+-----+\n",
      "|           some high school|  179|\n",
      "|         associate's degree|  222|\n",
      "|                high school|  196|\n",
      "|          bachelor's degree|  118|\n",
      "|            master's degree|   59|\n",
      "|               some college|  226|\n",
      "+---------------------------+-----+\n",
      "\n"
     ]
    }
   ],
   "source": [
    "#3.Select the number of students depending on parents educational background\n",
    "df.groupby(\"parental level of education\").count().show()"
   ]
  },
  {
   "cell_type": "code",
   "execution_count": 9,
   "metadata": {},
   "outputs": [
    {
     "name": "stdout",
     "output_type": "stream",
     "text": [
      "+--------------+-----+\n",
      "|race/ethnicity|count|\n",
      "+--------------+-----+\n",
      "|       group B|  190|\n",
      "|       group C|  319|\n",
      "|       group D|  262|\n",
      "|       group A|   89|\n",
      "|       group E|  140|\n",
      "+--------------+-----+\n",
      "\n"
     ]
    }
   ],
   "source": [
    "#4.Take a count of students in each ethnic group\n",
    "df.groupby(\"race/ethnicity\").count().show()"
   ]
  },
  {
   "cell_type": "markdown",
   "metadata": {},
   "source": []
  },
  {
   "cell_type": "code",
   "execution_count": 15,
   "metadata": {},
   "outputs": [
    {
     "name": "stdout",
     "output_type": "stream",
     "text": [
      "+----------+\n",
      "|math score|\n",
      "+----------+\n",
      "|        99|\n",
      "|        98|\n",
      "|        97|\n",
      "+----------+\n",
      "only showing top 3 rows\n",
      "\n"
     ]
    }
   ],
   "source": [
    "#5.What are the top 3 marks in math\n",
    "\n",
    "from pyspark.sql.functions import desc\n",
    "df.select(\"math score\").sort(desc(\"math score\")).distinct().show(3)"
   ]
  },
  {
   "cell_type": "code",
   "execution_count": 30,
   "metadata": {},
   "outputs": [],
   "source": [
    "#6.Change the data type of math score, reading score and writing from string to double\n",
    "\n",
    "from pyspark.sql.types import DoubleType\n",
    "new_df=df.withColumn(\"math score\",df[\"math score\"].cast(\"double\"))\n",
    "\n",
    "\n",
    "\n",
    "\n"
   ]
  },
  {
   "cell_type": "code",
   "execution_count": 31,
   "metadata": {},
   "outputs": [],
   "source": [
    "new_df=new_df.withColumn(\"writing score\",new_df[\"writing score\"].cast(\"double\"))"
   ]
  },
  {
   "cell_type": "code",
   "execution_count": 32,
   "metadata": {},
   "outputs": [],
   "source": [
    "new_df=new_df.withColumn(\"reading score\",new_df[\"reading score\"].cast(\"double\"))"
   ]
  },
  {
   "cell_type": "code",
   "execution_count": 33,
   "metadata": {},
   "outputs": [
    {
     "name": "stdout",
     "output_type": "stream",
     "text": [
      "root\n",
      " |-- gender: string (nullable = true)\n",
      " |-- race/ethnicity: string (nullable = true)\n",
      " |-- parental level of education: string (nullable = true)\n",
      " |-- lunch: string (nullable = true)\n",
      " |-- test preparation course: string (nullable = true)\n",
      " |-- math score: double (nullable = true)\n",
      " |-- reading score: double (nullable = true)\n",
      " |-- writing score: double (nullable = true)\n",
      "\n"
     ]
    }
   ],
   "source": [
    "new_df.printSchema()"
   ]
  },
  {
   "cell_type": "code",
   "execution_count": null,
   "metadata": {},
   "outputs": [],
   "source": []
  },
  {
   "cell_type": "code",
   "execution_count": 44,
   "metadata": {},
   "outputs": [
    {
     "name": "stdout",
     "output_type": "stream",
     "text": [
      "+--------------+-----------------+------------------+------------------+\n",
      "|race/ethnicity|  avg(math score)|avg(reading score)|avg(writing score)|\n",
      "+--------------+-----------------+------------------+------------------+\n",
      "|       group B|63.45263157894737| 67.35263157894737|              65.6|\n",
      "|       group C|64.46394984326018| 69.10344827586206| 67.82758620689656|\n",
      "|       group D|67.36259541984732| 70.03053435114504| 70.14503816793894|\n",
      "|       group A|61.62921348314607| 64.67415730337079|62.674157303370784|\n",
      "|       group E|73.82142857142857| 73.02857142857142| 71.40714285714286|\n",
      "+--------------+-----------------+------------------+------------------+\n",
      "\n"
     ]
    }
   ],
   "source": [
    "#7. avg of all scores depending on the ethnicity \n",
    "\n",
    "from pyspark.sql import functions as F\n",
    "new_df.groupBy(\"race/ethnicity\").agg(F.avg('math score'), F.avg('reading score'),F.avg('writing score')).show()"
   ]
  },
  {
   "cell_type": "code",
   "execution_count": null,
   "metadata": {},
   "outputs": [],
   "source": [
    "\n"
   ]
  },
  {
   "cell_type": "code",
   "execution_count": 51,
   "metadata": {},
   "outputs": [],
   "source": [
    "from pyspark.sql import SparkSession\n",
    "from pyspark.sql.types import StructType,StructField, StringType, IntegerType, ArrayType\n",
    "from pyspark.sql.functions import col,array_contains"
   ]
  },
  {
   "cell_type": "code",
   "execution_count": 57,
   "metadata": {},
   "outputs": [
    {
     "data": {
      "text/plain": [
       "358"
      ]
     },
     "execution_count": 57,
     "metadata": {},
     "output_type": "execute_result"
    }
   ],
   "source": [
    "#8. count the number of students who has completed test preparation course and the number of students who havent \n",
    "new_df.filter(col(\"test preparation course\") == \"completed\").count()"
   ]
  },
  {
   "cell_type": "code",
   "execution_count": null,
   "metadata": {},
   "outputs": [],
   "source": []
  },
  {
   "cell_type": "code",
   "execution_count": 58,
   "metadata": {},
   "outputs": [
    {
     "data": {
      "text/plain": [
       "642"
      ]
     },
     "execution_count": 58,
     "metadata": {},
     "output_type": "execute_result"
    }
   ],
   "source": [
    "#9. Number of students who havent completed the test\n",
    "new_df.filter(col(\"test preparation course\") == \"none\").count()"
   ]
  },
  {
   "cell_type": "code",
   "execution_count": 59,
   "metadata": {},
   "outputs": [
    {
     "name": "stdout",
     "output_type": "stream",
     "text": [
      "+--------------+-----------------+------------------+------------------+\n",
      "|race/ethnicity|  avg(math score)|avg(reading score)|avg(writing score)|\n",
      "+--------------+-----------------+------------------+------------------+\n",
      "|       group B|67.19117647058823|  72.8529411764706| 71.88235294117646|\n",
      "|       group C| 67.4957264957265| 73.65811965811966| 74.45299145299145|\n",
      "|       group D|69.79268292682927| 74.14634146341463| 76.65853658536585|\n",
      "|       group A|68.25806451612904| 71.03225806451613| 70.90322580645162|\n",
      "|       group E|77.43333333333334| 76.66666666666667| 75.98333333333333|\n",
      "+--------------+-----------------+------------------+------------------+\n",
      "\n"
     ]
    }
   ],
   "source": [
    "#10.Get the average score of the students for all subjects based on ethnicity\n",
    "new_df.filter(col(\"test preparation course\") == \"completed\").groupBy(\"race/ethnicity\").agg(F.avg('math score'), F.avg('reading score'),F.avg('writing score')).show()"
   ]
  },
  {
   "cell_type": "code",
   "execution_count": null,
   "metadata": {},
   "outputs": [],
   "source": []
  }
 ],
 "metadata": {
  "kernelspec": {
   "display_name": "Pyspark (Py3)",
   "language": "",
   "name": "pyspark"
  },
  "language_info": {
   "codemirror_mode": {
    "name": "ipython",
    "version": 3
   },
   "file_extension": ".py",
   "mimetype": "text/x-python",
   "name": "python",
   "nbconvert_exporter": "python",
   "pygments_lexer": "ipython3",
   "version": "3.6.7"
  }
 },
 "nbformat": 4,
 "nbformat_minor": 2
}
