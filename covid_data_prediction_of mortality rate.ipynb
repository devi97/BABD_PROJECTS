{
 "cells": [
  {
   "cell_type": "markdown",
   "metadata": {},
   "source": [
    "# MACHINE LEARNING ASSIGNMENT - 3"
   ]
  },
  {
   "cell_type": "code",
   "execution_count": 3,
   "metadata": {},
   "outputs": [],
   "source": [
    "import pandas as pd\n",
    "from numpy import array\n",
    "from collections import Counter\n",
    "from sklearn.datasets import make_classification\n"
   ]
  },
  {
   "cell_type": "code",
   "execution_count": 4,
   "metadata": {},
   "outputs": [],
   "source": [
    "import matplotlib.pyplot as plt\n",
    "from numpy import where"
   ]
  },
  {
   "cell_type": "code",
   "execution_count": 5,
   "metadata": {},
   "outputs": [],
   "source": [
    "import imblearn"
   ]
  },
  {
   "cell_type": "code",
   "execution_count": 6,
   "metadata": {},
   "outputs": [],
   "source": [
    "from imblearn.over_sampling import SMOTE\n",
    "import pandas as pd\n",
    "from sklearn import metrics\n",
    "from sklearn.model_selection import train_test_split\n",
    "import statsmodels.api as sm\n",
    "import statistics as s"
   ]
  },
  {
   "cell_type": "code",
   "execution_count": 7,
   "metadata": {},
   "outputs": [],
   "source": [
    "#clean up a bit\n",
    "df2 = pd.read_csv('2021VAERSSYMPTOMS.csv')\n",
    "df2=df2[['VAERS_ID','SYMPTOM1']]\n",
    "df2=pd.get_dummies(df2, columns=['SYMPTOM1']).groupby(['VAERS_ID'], as_index=False).sum()"
   ]
  },
  {
   "cell_type": "code",
   "execution_count": 8,
   "metadata": {},
   "outputs": [],
   "source": [
    "#load the data\n",
    "df1=pd.read_csv('vacdeath.csv')"
   ]
  },
  {
   "cell_type": "code",
   "execution_count": 9,
   "metadata": {},
   "outputs": [
    {
     "data": {
      "text/plain": [
       "Index(['VAERS_ID', 'RECVDATE', 'AGE_YRS', 'CAGE_MO', 'RPT_DATE',\n",
       "       'SYMPTOM_TEXT', 'DATEDIED', 'HOSPDAYS', 'VAX_DATE', 'ONSET_DATE',\n",
       "       ...\n",
       "       'SPLTTYPE_VFC # 21109', 'SPLTTYPE_VSAFE', 'SPLTTYPE_access through PCP',\n",
       "       'SPLTTYPE_pandemic/state', 'BIRTH_DEFECT_N', 'BIRTH_DEFECT_Y',\n",
       "       'OFC_VISIT_N', 'OFC_VISIT_Y', 'ER_ED_VISIT_N', 'ER_ED_VISIT_Y'],\n",
       "      dtype='object', length=203)"
      ]
     },
     "execution_count": 9,
     "metadata": {},
     "output_type": "execute_result"
    }
   ],
   "source": [
    "df1.columns"
   ]
  },
  {
   "cell_type": "code",
   "execution_count": 10,
   "metadata": {},
   "outputs": [],
   "source": [
    "#concat all\n",
    "dfb=pd.merge(df1[['VAERS_ID','AGE_YRS']],df2,on='VAERS_ID')"
   ]
  },
  {
   "cell_type": "code",
   "execution_count": 11,
   "metadata": {},
   "outputs": [],
   "source": [
    "#Dropping irrevalant columns \n",
    "dfc=dfb.drop(columns=['SYMPTOM1_Autopsy','SYMPTOM1_Unresponsive to stimuli','SYMPTOM1_Completed suicide','SYMPTOM1_Respiratory arrest','SYMPTOM1_Sudden death','SYMPTOM1_Endotracheal intubation complication','SYMPTOM1_Blood urea increased','SYMPTOM1_Resuscitation',\n",
    "                   'SYMPTOM1_Food refusal','SYMPTOM1_Orthostatic hypotension','SYMPTOM1_Airway secretion clearance therapy','SYMPTOM1_Respiratory failure' ])\n"
   ]
  },
  {
   "cell_type": "code",
   "execution_count": 12,
   "metadata": {},
   "outputs": [],
   "source": [
    "#slellect the preliminary features\n",
    "X=dfc.select_dtypes(['number'])\n"
   ]
  },
  {
   "cell_type": "code",
   "execution_count": 13,
   "metadata": {},
   "outputs": [
    {
     "data": {
      "text/plain": [
       "{'01/01/2021',\n",
       " '01/02/2021',\n",
       " '01/03/2021',\n",
       " '01/04/2021',\n",
       " '01/05/2021',\n",
       " '01/06/2021',\n",
       " '01/07/2021',\n",
       " '01/08/2001',\n",
       " '01/08/2021',\n",
       " '01/09/2021',\n",
       " '01/10/2021',\n",
       " '01/11/2021',\n",
       " '01/12/2021',\n",
       " '01/13/2021',\n",
       " '01/14/2021',\n",
       " '01/15/2021',\n",
       " '01/16/2021',\n",
       " '01/17/2021',\n",
       " '01/18/2021',\n",
       " '01/19/2021',\n",
       " '01/20/2021',\n",
       " '01/21/2021',\n",
       " '01/22/2021',\n",
       " '01/23/2021',\n",
       " '01/24/2021',\n",
       " '01/25/2021',\n",
       " '01/26/2021',\n",
       " '01/27/2021',\n",
       " '01/28/2021',\n",
       " '01/29/2021',\n",
       " '01/30/2021',\n",
       " '01/31/2021',\n",
       " '02/01/2021',\n",
       " '02/02/2019',\n",
       " '02/02/2021',\n",
       " '02/03/2021',\n",
       " '02/04/2021',\n",
       " '02/05/2021',\n",
       " '02/06/2021',\n",
       " '02/07/2019',\n",
       " '02/07/2021',\n",
       " '02/08/2021',\n",
       " '02/09/2021',\n",
       " '02/10/2021',\n",
       " '02/11/2021',\n",
       " '02/12/2021',\n",
       " '02/13/2021',\n",
       " '02/14/2021',\n",
       " '02/15/2021',\n",
       " '02/16/2021',\n",
       " '02/17/2021',\n",
       " '02/18/2021',\n",
       " '06/07/2016',\n",
       " '07/28/2018',\n",
       " '10/09/2019',\n",
       " '10/10/2020',\n",
       " '10/18/2020',\n",
       " '10/27/2020',\n",
       " '11/13/2020',\n",
       " '12/01/2020',\n",
       " '12/10/2020',\n",
       " '12/13/2020',\n",
       " '12/20/2020',\n",
       " '12/21/2020',\n",
       " '12/22/2020',\n",
       " '12/23/2020',\n",
       " '12/25/2020',\n",
       " '12/26/2020',\n",
       " '12/27/2020',\n",
       " '12/28/2020',\n",
       " '12/29/2020',\n",
       " '12/30/2020',\n",
       " '12/31/2020',\n",
       " 'No registered date'}"
      ]
     },
     "execution_count": 13,
     "metadata": {},
     "output_type": "execute_result"
    }
   ],
   "source": [
    "#Create a dummy for death\n",
    "y=list(df1['DATEDIED'])\n",
    "set(y)\n"
   ]
  },
  {
   "cell_type": "code",
   "execution_count": 14,
   "metadata": {},
   "outputs": [],
   "source": [
    "for i in range(len(y)):\n",
    "    if y[i]=='No registered date':\n",
    "        y[i]=0\n",
    "    else:\n",
    "        y[i]=1"
   ]
  },
  {
   "cell_type": "code",
   "execution_count": 15,
   "metadata": {},
   "outputs": [
    {
     "data": {
      "text/plain": [
       "Counter({0: 8383, 1: 903})"
      ]
     },
     "execution_count": 15,
     "metadata": {},
     "output_type": "execute_result"
    }
   ],
   "source": [
    "#very unblanaced target - death \n",
    "Counter(y)"
   ]
  },
  {
   "cell_type": "code",
   "execution_count": 16,
   "metadata": {},
   "outputs": [
    {
     "data": {
      "image/png": "[encoded data removed]",
      "text/plain": [
       "<Figure size 432x288 with 1 Axes>"
      ]
     },
     "metadata": {
      "needs_background": "light"
     },
     "output_type": "display_data"
    }
   ],
   "source": [
    "\n",
    "#Visualize Class Counts of the test \n",
    "plt.hist(y)\n",
    "plt.xlabel(\"count of each class\")\n",
    "plt.ylabel(\"classes\")\n",
    "plt.show()"
   ]
  },
  {
   "cell_type": "code",
   "execution_count": 17,
   "metadata": {},
   "outputs": [
    {
     "data": {
      "text/plain": [
       "Counter({0: 5868, 1: 5868})"
      ]
     },
     "execution_count": 17,
     "metadata": {},
     "output_type": "execute_result"
    }
   ],
   "source": [
    "#SMOTE (to deal with data size)\n",
    "os = SMOTE(random_state=0)\n",
    "X_train, X_test, y_train, y_test = train_test_split(X, y, test_size=0.3, random_state=42\n",
    "                                                    ,stratify=y)\n",
    "columns = X_train.columns\n",
    "os_data_X,os_data_y=os.fit_sample(X_train, y_train) \n",
    "os_data_X = pd.DataFrame(data=os_data_X,columns=columns )\n",
    "os_data_y= pd.DataFrame(data=os_data_y)\n",
    "os_data_y.columns=['y']\n",
    "Counter(os_data_y.y)"
   ]
  },
  {
   "cell_type": "code",
   "execution_count": 18,
   "metadata": {},
   "outputs": [
    {
     "data": {
      "image/png": "[encoded data removed]",
      "text/plain": [
       "<Figure size 432x288 with 1 Axes>"
      ]
     },
     "metadata": {
      "needs_background": "light"
     },
     "output_type": "display_data"
    }
   ],
   "source": [
    "#Visualize Class Counts of the test \n",
    "plt.hist(os_data_y.y)\n",
    "plt.xlabel(\"count of each class\")\n",
    "plt.ylabel(\"classes\")\n",
    "plt.show()"
   ]
  },
  {
   "cell_type": "code",
   "execution_count": 19,
   "metadata": {},
   "outputs": [],
   "source": [
    "#remove redundant features\n",
    "#fin_x=os_data_X.iloc[:,rfe.support_].drop(columns=['SYMPTOM1_Death','DIED_N', 'DIED_Y'])\n",
    "fin_x=os_data_X.drop(columns=['SYMPTOM1_Death','VAERS_ID'])\n",
    "kk=fin_x.columns\n",
    "#fin_x.to_csv('safy.csv')\n",
    "#load fin_x \n",
    "#fin_x=pd.read_csv('safy.csv').drop(columns='Unnamed: 0')\n"
   ]
  },
  {
   "cell_type": "code",
   "execution_count": 20,
   "metadata": {},
   "outputs": [],
   "source": [
    "#log reg\n",
    "import numpy as np\n",
    "from sklearn.linear_model import LogisticRegression\n",
    "from sklearn.model_selection import RandomizedSearchCV"
   ]
  },
  {
   "cell_type": "code",
   "execution_count": 21,
   "metadata": {},
   "outputs": [],
   "source": [
    "#Step1: Make an instance of the model(using the default parameters)-> not sure if I need this\n",
    "result = LogisticRegression(random_state = 20)\n"
   ]
  },
  {
   "cell_type": "code",
   "execution_count": 22,
   "metadata": {},
   "outputs": [
    {
     "name": "stderr",
     "output_type": "stream",
     "text": [
      "C:\\Users\\DELL\\anaconda3\\lib\\site-packages\\sklearn\\utils\\validation.py:72: DataConversionWarning: A column-vector y was passed when a 1d array was expected. Please change the shape of y to (n_samples, ), for example using ravel().\n",
      "  return f(**kwargs)\n",
      "C:\\Users\\DELL\\anaconda3\\lib\\site-packages\\sklearn\\linear_model\\_logistic.py:762: ConvergenceWarning: lbfgs failed to converge (status=1):\n",
      "STOP: TOTAL NO. of ITERATIONS REACHED LIMIT.\n",
      "\n",
      "Increase the number of iterations (max_iter) or scale the data as shown in:\n",
      "    https://scikit-learn.org/stable/modules/preprocessing.html\n",
      "Please also refer to the documentation for alternative solver options:\n",
      "    https://scikit-learn.org/stable/modules/linear_model.html#logistic-regression\n",
      "  n_iter_i = _check_optimize_result(\n"
     ]
    }
   ],
   "source": [
    "#log reg function\n",
    "result.fit(fin_x,os_data_y)\n",
    "#extract the weights for ach variable\n",
    "jj=pd.DataFrame( np.round(result.coef_,5) ).transpose()\n",
    "weights=pd.concat([pd.DataFrame(fin_x.columns),jj],axis=1)\n",
    "weights.columns=['variable','w']\n"
   ]
  },
  {
   "cell_type": "code",
   "execution_count": 23,
   "metadata": {},
   "outputs": [
    {
     "data": {
      "text/html": [
       "<div>\n",
       "<style scoped>\n",
       "    .dataframe tbody tr th:only-of-type {\n",
       "        vertical-align: middle;\n",
       "    }\n",
       "\n",
       "    .dataframe tbody tr th {\n",
       "        vertical-align: top;\n",
       "    }\n",
       "\n",
       "    .dataframe thead th {\n",
       "        text-align: right;\n",
       "    }\n",
       "</style>\n",
       "<table border=\"1\" class=\"dataframe\">\n",
       "  <thead>\n",
       "    <tr style=\"text-align: right;\">\n",
       "      <th></th>\n",
       "      <th>variable</th>\n",
       "      <th>w</th>\n",
       "    </tr>\n",
       "  </thead>\n",
       "  <tbody>\n",
       "    <tr>\n",
       "      <th>725</th>\n",
       "      <td>SYMPTOM1_Frequent bowel movements</td>\n",
       "      <td>0.45376</td>\n",
       "    </tr>\n",
       "    <tr>\n",
       "      <th>1002</th>\n",
       "      <td>SYMPTOM1_Lung disorder</td>\n",
       "      <td>0.45376</td>\n",
       "    </tr>\n",
       "    <tr>\n",
       "      <th>502</th>\n",
       "      <td>SYMPTOM1_Computerised tomogram spine</td>\n",
       "      <td>0.43089</td>\n",
       "    </tr>\n",
       "    <tr>\n",
       "      <th>149</th>\n",
       "      <td>SYMPTOM1_Appetite disorder</td>\n",
       "      <td>0.41324</td>\n",
       "    </tr>\n",
       "    <tr>\n",
       "      <th>3</th>\n",
       "      <td>SYMPTOM1_Abdominal X-ray</td>\n",
       "      <td>0.40635</td>\n",
       "    </tr>\n",
       "    <tr>\n",
       "      <th>774</th>\n",
       "      <td>SYMPTOM1_Haematocrit decreased</td>\n",
       "      <td>0.37018</td>\n",
       "    </tr>\n",
       "    <tr>\n",
       "      <th>1222</th>\n",
       "      <td>SYMPTOM1_Peritoneal lavage</td>\n",
       "      <td>0.36710</td>\n",
       "    </tr>\n",
       "    <tr>\n",
       "      <th>1588</th>\n",
       "      <td>SYMPTOM1_White blood cell count decreased</td>\n",
       "      <td>0.36710</td>\n",
       "    </tr>\n",
       "    <tr>\n",
       "      <th>1218</th>\n",
       "      <td>SYMPTOM1_Peripheral coldness</td>\n",
       "      <td>0.35161</td>\n",
       "    </tr>\n",
       "    <tr>\n",
       "      <th>957</th>\n",
       "      <td>SYMPTOM1_Joint injury</td>\n",
       "      <td>0.33212</td>\n",
       "    </tr>\n",
       "  </tbody>\n",
       "</table>\n",
       "</div>"
      ],
      "text/plain": [
       "                                       variable        w\n",
       "725           SYMPTOM1_Frequent bowel movements  0.45376\n",
       "1002                     SYMPTOM1_Lung disorder  0.45376\n",
       "502        SYMPTOM1_Computerised tomogram spine  0.43089\n",
       "149                  SYMPTOM1_Appetite disorder  0.41324\n",
       "3                      SYMPTOM1_Abdominal X-ray  0.40635\n",
       "774              SYMPTOM1_Haematocrit decreased  0.37018\n",
       "1222                 SYMPTOM1_Peritoneal lavage  0.36710\n",
       "1588  SYMPTOM1_White blood cell count decreased  0.36710\n",
       "1218               SYMPTOM1_Peripheral coldness  0.35161\n",
       "957                       SYMPTOM1_Joint injury  0.33212"
      ]
     },
     "execution_count": 23,
     "metadata": {},
     "output_type": "execute_result"
    }
   ],
   "source": [
    "#Sorting the weights by descending order \n",
    "weights.sort_values(by=['w'],ascending=False).nlargest(10, 'w')"
   ]
  },
  {
   "cell_type": "code",
   "execution_count": 24,
   "metadata": {},
   "outputs": [],
   "source": [
    "#GLM binomial log reg\n",
    "#logit_model=sm.GLM(os_data_y,fin_x, family = sm.families.Binomial())\n",
    "#result=logit_model.fit()\n"
   ]
  },
  {
   "cell_type": "code",
   "execution_count": 25,
   "metadata": {},
   "outputs": [],
   "source": [
    "#predict \n",
    "y_train_pred = result.predict(fin_x)\n",
    "#y_train_pred = y_train_pred.values.reshape(-1)"
   ]
  },
  {
   "cell_type": "code",
   "execution_count": 26,
   "metadata": {},
   "outputs": [],
   "source": [
    "#table with data and predictions\n",
    "y_train_pred_final = pd.DataFrame({'Converted':array(os_data_y).reshape(-1), 'Conversion_Prob':y_train_pred})\n",
    "y_train_pred_final['Predicted'] = y_train_pred_final.Conversion_Prob.map(lambda x: 1 if x > 0.5 else 0)\n"
   ]
  },
  {
   "cell_type": "code",
   "execution_count": 27,
   "metadata": {},
   "outputs": [
    {
     "name": "stdout",
     "output_type": "stream",
     "text": [
      "[[5321  547]\n",
      " [ 326 5542]]\n"
     ]
    }
   ],
   "source": [
    "#confusion matrix\n",
    "confusion = metrics.confusion_matrix(y_train_pred_final.Converted, y_train_pred_final.Predicted )\n",
    "print(confusion)\n"
   ]
  },
  {
   "cell_type": "code",
   "execution_count": 28,
   "metadata": {},
   "outputs": [
    {
     "data": {
      "text/plain": [
       "Text(0.5, 15.0, 'Predicted Outcome')"
      ]
     },
     "execution_count": 28,
     "metadata": {},
     "output_type": "execute_result"
    },
    {
     "data": {
      "image/png": "[encoded data removed]",
      "text/plain": [
       "<Figure size 432x288 with 1 Axes>"
      ]
     },
     "metadata": {
      "needs_background": "light"
     },
     "output_type": "display_data"
    }
   ],
   "source": [
    "import seaborn as sn\n",
    "sn.heatmap(metrics.confusion_matrix(y_train_pred_final.Converted,y_train_pred_final.Predicted), annot=True, fmt='d', cmap=\"Reds\", cbar=False);\n",
    "plt.title('Confusion matrix', y = 1.1)\n",
    "plt.ylabel('Actual Outcome')\n",
    "plt.xlabel('Predicted Outcome')\n"
   ]
  },
  {
   "cell_type": "code",
   "execution_count": 29,
   "metadata": {},
   "outputs": [
    {
     "data": {
      "text/plain": [
       "<AxesSubplot:>"
      ]
     },
     "execution_count": 29,
     "metadata": {},
     "output_type": "execute_result"
    },
    {
     "data": {
      "image/png": "[encoded data removed]",
      "text/plain": [
       "<Figure size 432x288 with 2 Axes>"
      ]
     },
     "metadata": {
      "needs_background": "light"
     },
     "output_type": "display_data"
    }
   ],
   "source": [
    "import seaborn as sn\n",
    "sn.heatmap(confusion, annot=True)\n"
   ]
  },
  {
   "cell_type": "code",
   "execution_count": 30,
   "metadata": {},
   "outputs": [
    {
     "name": "stdout",
     "output_type": "stream",
     "text": [
      "0.9256134969325154\n"
     ]
    }
   ],
   "source": [
    "#Train model accuracy\n",
    "print(metrics.accuracy_score(y_train_pred_final.Converted, y_train_pred_final.Predicted))\n"
   ]
  },
  {
   "cell_type": "code",
   "execution_count": 31,
   "metadata": {},
   "outputs": [
    {
     "name": "stdout",
     "output_type": "stream",
     "text": [
      "              precision    recall  f1-score   support\n",
      "\n",
      "           0       0.94      0.91      0.92      5868\n",
      "           1       0.91      0.94      0.93      5868\n",
      "\n",
      "    accuracy                           0.93     11736\n",
      "   macro avg       0.93      0.93      0.93     11736\n",
      "weighted avg       0.93      0.93      0.93     11736\n",
      "\n"
     ]
    }
   ],
   "source": [
    "from sklearn.metrics import classification_report\n",
    "print(classification_report(y_train_pred_final.Converted, y_train_pred_final.Predicted))\n"
   ]
  },
  {
   "cell_type": "code",
   "execution_count": 32,
   "metadata": {},
   "outputs": [],
   "source": [
    "####test\n",
    "y_test_pred = pd.DataFrame(result.predict(X_test[fin_x.columns]))\n",
    "y_test_df = pd.DataFrame(y_test)\n"
   ]
  },
  {
   "cell_type": "code",
   "execution_count": 33,
   "metadata": {},
   "outputs": [],
   "source": [
    "y_test_pred.reset_index(drop=True, inplace=True)\n",
    "y_test_df.reset_index(drop=True, inplace=True)\n"
   ]
  },
  {
   "cell_type": "code",
   "execution_count": 34,
   "metadata": {},
   "outputs": [],
   "source": [
    "y_pred_final = pd.concat([y_test_df, y_test_pred],axis=1)\n"
   ]
  },
  {
   "cell_type": "code",
   "execution_count": 35,
   "metadata": {},
   "outputs": [
    {
     "name": "stdout",
     "output_type": "stream",
     "text": [
      "0.8675520459440057\n"
     ]
    }
   ],
   "source": [
    "#test set accuracy \n",
    "print(metrics.accuracy_score(y_pred_final.iloc[:,0], y_pred_final.iloc[:,1]))\n"
   ]
  },
  {
   "cell_type": "code",
   "execution_count": 36,
   "metadata": {},
   "outputs": [
    {
     "data": {
      "text/plain": [
       "Text(0.5, 15.0, 'Predicted Outcome')"
      ]
     },
     "execution_count": 36,
     "metadata": {},
     "output_type": "execute_result"
    },
    {
     "data": {
      "image/png": "[encoded data removed]",
      "text/plain": [
       "<Figure size 432x288 with 1 Axes>"
      ]
     },
     "metadata": {
      "needs_background": "light"
     },
     "output_type": "display_data"
    }
   ],
   "source": [
    "#Test set confusion matrix\n",
    "sn.heatmap(metrics.confusion_matrix(y_pred_final.iloc[:,0], y_pred_final.iloc[:,1]), annot=True, fmt='d', cmap=\"Greens\", cbar=False);\n",
    "plt.title('Confusion matrix', y = 1.1)\n",
    "plt.ylabel('Actual Outcome')\n",
    "plt.xlabel('Predicted Outcome')\n"
   ]
  },
  {
   "cell_type": "code",
   "execution_count": 280,
   "metadata": {},
   "outputs": [
    {
     "data": {
      "text/plain": [
       "<AxesSubplot:>"
      ]
     },
     "execution_count": 280,
     "metadata": {},
     "output_type": "execute_result"
    },
    {
     "data": {
      "image/png": "[encoded data removed]",
      "text/plain": [
       "<Figure size 432x288 with 2 Axes>"
      ]
     },
     "metadata": {
      "needs_background": "light"
     },
     "output_type": "display_data"
    }
   ],
   "source": [
    "#test confusion matrix\n",
    "confusion2 = metrics.confusion_matrix(y_pred_final.iloc[:,0], y_pred_final.iloc[:,1] )\n",
    "confusion2\n",
    "sn.heatmap(confusion2, annot=True)\n"
   ]
  },
  {
   "cell_type": "code",
   "execution_count": 281,
   "metadata": {},
   "outputs": [
    {
     "data": {
      "text/plain": [
       "array([[2227,  288],\n",
       "       [  81,  190]], dtype=int64)"
      ]
     },
     "execution_count": 281,
     "metadata": {},
     "output_type": "execute_result"
    }
   ],
   "source": [
    "confusion2"
   ]
  },
  {
   "cell_type": "code",
   "execution_count": 282,
   "metadata": {},
   "outputs": [
    {
     "name": "stdout",
     "output_type": "stream",
     "text": [
      "              precision    recall  f1-score   support\n",
      "\n",
      "           0       0.96      0.89      0.92      2515\n",
      "           1       0.40      0.70      0.51       271\n",
      "\n",
      "    accuracy                           0.87      2786\n",
      "   macro avg       0.68      0.79      0.72      2786\n",
      "weighted avg       0.91      0.87      0.88      2786\n",
      "\n"
     ]
    }
   ],
   "source": [
    "#get full report\n",
    "from sklearn.metrics import classification_report\n",
    "print(classification_report(y_pred_final.iloc[:,0], y_pred_final.iloc[:,1]))\n"
   ]
  },
  {
   "cell_type": "code",
   "execution_count": 283,
   "metadata": {},
   "outputs": [
    {
     "data": {
      "image/png": "[encoded data removed]",
      "text/plain": [
       "<Figure size 432x288 with 1 Axes>"
      ]
     },
     "metadata": {
      "needs_background": "light"
     },
     "output_type": "display_data"
    }
   ],
   "source": [
    "#ROC curve\n",
    "from sklearn.metrics import roc_auc_score\n",
    "from sklearn.metrics import roc_curve\n",
    "logit_roc_auc = roc_auc_score(y_pred_final.iloc[:,0], y_pred_final.iloc[:,1])\n",
    "fpr, tpr, thresholds = roc_curve(y_pred_final.iloc[:,0], y_pred_final.iloc[:,1])\n",
    "plt.figure()\n",
    "plt.plot(fpr, tpr, label='Logistic Regression (area = %0.2f)' % logit_roc_auc)\n",
    "plt.plot([0, 1], [0, 1],'r--')\n",
    "plt.xlim([0.0, 1.0])\n",
    "plt.ylim([0.0, 1.05])\n",
    "plt.xlabel('False Positive Rate')\n",
    "plt.ylabel('True Positive Rate')\n",
    "plt.title('Receiver operating characteristic')\n",
    "plt.legend(loc=\"lower right\")\n",
    "plt.savefig('Log_ROC')\n",
    "plt.show()\n",
    "\n"
   ]
  },
  {
   "cell_type": "code",
   "execution_count": 284,
   "metadata": {},
   "outputs": [
    {
     "name": "stdout",
     "output_type": "stream",
     "text": [
      "***RESULTS ON TRAIN SET***\n",
      "f1_score:  0.9269883750104542\n",
      "--\n",
      "***RESULTS ON TEST SET***\n",
      "f1_score:  0.507343124165554\n"
     ]
    }
   ],
   "source": [
    "from sklearn import metrics\n",
    "print('***RESULTS ON TRAIN SET***')\n",
    "print(\"f1_score: \", metrics.f1_score(y_train_pred_final.Converted, y_train_pred_final.Predicted))\n",
    "print(\"--\")\n",
    "print('***RESULTS ON TEST SET***')\n",
    "print(\"f1_score: \", metrics.f1_score(y_pred_final.iloc[:,0], y_pred_final.iloc[:,1]))"
   ]
  },
  {
   "cell_type": "code",
   "execution_count": null,
   "metadata": {},
   "outputs": [],
   "source": []
  },
  {
   "cell_type": "code",
   "execution_count": null,
   "metadata": {},
   "outputs": [],
   "source": []
  }
 ],
 "metadata": {
  "kernelspec": {
   "display_name": "Python 3",
   "language": "python",
   "name": "python3"
  },
  "language_info": {
   "codemirror_mode": {
    "name": "ipython",
    "version": 3
   },
   "file_extension": ".py",
   "mimetype": "text/x-python",
   "name": "python",
   "nbconvert_exporter": "python",
   "pygments_lexer": "ipython3",
   "version": "3.8.5"
  }
 },
 "nbformat": 4,
 "nbformat_minor": 4
}
